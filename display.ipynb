{
 "cells": [
  {
   "cell_type": "code",
   "execution_count": 1,
   "id": "0d6f7051",
   "metadata": {},
   "outputs": [],
   "source": [
    "# -*- codeing = utf-8 -*-\n",
    "from selenium import webdriver\n",
    "import pandas as pd\n",
    "import sys\n",
    "import time as t\n",
    "import random\n",
    "#import self classes\n",
    "from getch_papers import Getch_Papers\n",
    "from gui import GUI"
   ]
  },
  {
   "cell_type": "code",
   "execution_count": 3,
   "id": "e1c817cb",
   "metadata": {},
   "outputs": [
    {
     "name": "stdout",
     "output_type": "stream",
     "text": [
      "请输入检索信息！\n",
      "Find articles with these terms:deep learning\n",
      "Author(s):\n",
      "Year(s):2022\n",
      "In this journal or book title:International Journal of Impact Engineering\n",
      "文献链接：\n",
      "https://www.sciencedirect.com/science/article/pii/S0734743X22000860\n",
      "https://www.sciencedirect.com/science/article/pii/S0734743X21002979\n",
      "https://www.sciencedirect.com/science/article/pii/S0734743X22000781\n",
      "https://www.sciencedirect.com/science/article/pii/S0734743X22001208\n"
     ]
    }
   ],
   "source": [
    "if __name__ == '__main__':\n",
    "    driver = webdriver.Edge(executable_path=\"D:\\\\edgedriver_win64\\msedgedriver.exe\")\n",
    "    \n",
    "    #instantiate a crawl class\n",
    "    getch_page = Getch_Papers()\n",
    "    url_search = getch_page.search()\n",
    "    \n",
    "    #get the urls for all the papers\n",
    "    list_urls = getch_page.get_urls(url = url_search,driver = driver,numsofpage = 5)\n",
    "    print('文献链接：')\n",
    "    for i in range(len(list_urls)):\n",
    "        print(list_urls[i])\n",
    "        \n",
    "    #get the information needed for all papers\n",
    "    title,authors,time,keywords,abstract = [],[],[],[],[]\n",
    "    for i in range(len(list_urls)):\n",
    "        title_temp,authors_temp,time_temp,keywords_temp,abstract_temp = getch_page.get_messages(url = list_urls[i],driver=driver)\n",
    "        title.append(title_temp)\n",
    "        authors.append(authors_temp)\n",
    "        time.append(time_temp)\n",
    "        keywords.append(keywords_temp)\n",
    "        abstract.append(abstract_temp)\n",
    "    \n",
    "    #save the information to file.csv\n",
    "    getch_page.save_to_csv(title=title,authors=authors,time=time,keywords=keywords,abstract=abstract,url=list_urls)\n",
    "    driver.quit()\n",
    "\n",
    "    #display crawl information by class GUI\n",
    "    GUI()"
   ]
  },
  {
   "cell_type": "code",
   "execution_count": 1,
   "id": "e651c8d2",
   "metadata": {},
   "outputs": [],
   "source": [
    "###input\n",
    "#deep learning\n",
    "#\n",
    "#    &  2022\n",
    "#Journal of the Mechanics and Physics of Solids   &  International Journal of Impact Engineering"
   ]
  }
 ],
 "metadata": {
  "kernelspec": {
   "display_name": "gluon",
   "language": "python",
   "name": "gluon"
  },
  "language_info": {
   "codemirror_mode": {
    "name": "ipython",
    "version": 3
   },
   "file_extension": ".py",
   "mimetype": "text/x-python",
   "name": "python",
   "nbconvert_exporter": "python",
   "pygments_lexer": "ipython3",
   "version": "3.6.13"
  }
 },
 "nbformat": 4,
 "nbformat_minor": 5
}
